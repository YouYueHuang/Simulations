{
 "cells": [
  {
   "cell_type": "code",
   "execution_count": 1,
   "metadata": {},
   "outputs": [],
   "source": [
    "import random"
   ]
  },
  {
   "cell_type": "code",
   "execution_count": 4,
   "metadata": {},
   "outputs": [],
   "source": [
    "DECIMALS = 2\n",
    "\n",
    "# random_box return the specific box where a ball fell\n",
    "def random_box(levels):\n",
    "    box_result = 0\n",
    "    for x in range(levels):\n",
    "        # get a random number between 0.0 and 1.0\n",
    "        side =  random.random()\n",
    "\n",
    "        # if random number is bigger than 0.5 it represent that ball go to right\n",
    "        if side > 0.5:\n",
    "            box_result = box_result + 1\n",
    "        # otherwise it represent that ball go to left\n",
    "    return box_result\n",
    "\n",
    "\n",
    "def throw_balls(balls, levels, boxes):\n",
    "    for x in range(balls):\n",
    "        drop = random_box(levels)\n",
    "        boxes[drop] = boxes[drop] + 1\n",
    "    return boxes;\n",
    "\n",
    "\n",
    "def main(levels = 1, balls = 1, percent = True):\n",
    "    # '-l <number_of_levels> -b <number_of_balls> -p < result in percent>'\n",
    "\n",
    "    print ('Number of levels: ', levels)\n",
    "    print ('Total of balls: ', balls)\n",
    "\n",
    "    # number of boxes\n",
    "    num_boxes = levels + 1 \n",
    "\n",
    "    # create list and reset it\n",
    "    boxes = [0 for x in range(num_boxes)]\n",
    "\n",
    "    result = throw_balls(balls,levels,boxes)\n",
    "\n",
    "    if percent:\n",
    "        result = [str(round((x/float(balls))*100,DECIMALS)) + '%' for x in result]\n",
    "\n",
    "    print (result)"
   ]
  },
  {
   "cell_type": "code",
   "execution_count": 5,
   "metadata": {},
   "outputs": [
    {
     "name": "stdout",
     "output_type": "stream",
     "text": [
      "Number of levels:  100\n",
      "Total of balls:  10\n",
      "['0.0%', '0.0%', '0.0%', '0.0%', '0.0%', '0.0%', '0.0%', '0.0%', '0.0%', '0.0%', '0.0%', '0.0%', '0.0%', '0.0%', '0.0%', '0.0%', '0.0%', '0.0%', '0.0%', '0.0%', '0.0%', '0.0%', '0.0%', '0.0%', '0.0%', '0.0%', '0.0%', '0.0%', '0.0%', '0.0%', '0.0%', '0.0%', '0.0%', '0.0%', '0.0%', '0.0%', '0.0%', '0.0%', '0.0%', '0.0%', '10.0%', '0.0%', '0.0%', '0.0%', '0.0%', '0.0%', '20.0%', '0.0%', '10.0%', '20.0%', '0.0%', '0.0%', '0.0%', '0.0%', '20.0%', '10.0%', '0.0%', '0.0%', '0.0%', '0.0%', '10.0%', '0.0%', '0.0%', '0.0%', '0.0%', '0.0%', '0.0%', '0.0%', '0.0%', '0.0%', '0.0%', '0.0%', '0.0%', '0.0%', '0.0%', '0.0%', '0.0%', '0.0%', '0.0%', '0.0%', '0.0%', '0.0%', '0.0%', '0.0%', '0.0%', '0.0%', '0.0%', '0.0%', '0.0%', '0.0%', '0.0%', '0.0%', '0.0%', '0.0%', '0.0%', '0.0%', '0.0%', '0.0%', '0.0%', '0.0%', '0.0%']\n"
     ]
    }
   ],
   "source": [
    "main(levels = 100, balls = 10, percent = True)"
   ]
  },
  {
   "cell_type": "code",
   "execution_count": null,
   "metadata": {},
   "outputs": [],
   "source": []
  }
 ],
 "metadata": {
  "kernelspec": {
   "display_name": "Python 3",
   "language": "python",
   "name": "python3"
  },
  "language_info": {
   "codemirror_mode": {
    "name": "ipython",
    "version": 3
   },
   "file_extension": ".py",
   "mimetype": "text/x-python",
   "name": "python",
   "nbconvert_exporter": "python",
   "pygments_lexer": "ipython3",
   "version": "3.6.3"
  },
  "nav_menu": {},
  "toc": {
   "navigate_menu": true,
   "number_sections": true,
   "sideBar": true,
   "threshold": 6,
   "toc_cell": false,
   "toc_section_display": "block",
   "toc_window_display": false
  }
 },
 "nbformat": 4,
 "nbformat_minor": 2
}
