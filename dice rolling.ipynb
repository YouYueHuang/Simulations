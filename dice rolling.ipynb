{
 "cells": [
  {
   "cell_type": "code",
   "execution_count": 1,
   "metadata": {},
   "outputs": [
    {
     "name": "stdout",
     "output_type": "stream",
     "text": [
      "The average is 3.48908\n"
     ]
    }
   ],
   "source": [
    "from random import randint, seed\n",
    "from datetime import datetime\n",
    "\n",
    "seed(datetime.now())\n",
    "\n",
    "num_rounds = 10**5\n",
    "sum_of_values = 0\n",
    "\n",
    "for _ in range(num_rounds):\n",
    "    sum_of_values += randint(1, 6)\n",
    "    \n",
    "print(\"The average is {}\".format(sum_of_values/(num_rounds*1.0)))"
   ]
  },
  {
   "cell_type": "code",
   "execution_count": 3,
   "metadata": {},
   "outputs": [
    {
     "name": "stdout",
     "output_type": "stream",
     "text": [
      "The dice [2, 2, 2, 2, 3, 3] is better than [1, 1, 1, 1, 6, 6]:\n",
      "out of 100000 rounds it won 33492 times more\n"
     ]
    }
   ],
   "source": [
    "from random import randint, seed\n",
    "from datetime import datetime\n",
    "\n",
    "seed(datetime.now())\n",
    "\n",
    "dice1=[2, 2, 2, 2, 3, 3]\n",
    "dice2=[1, 1, 1, 1, 6, 6]\n",
    "\n",
    "num_rounds = 10**5\n",
    "\n",
    "assert len(dice1) == 6 and len(dice2) == 6\n",
    "\n",
    "num_dice1_wins = 0\n",
    "num_dice2_wins = 0\n",
    "\n",
    "for _ in range(num_rounds):\n",
    "    dice1_result = dice1[randint(0, 5)]\n",
    "    dice2_result = dice2[randint(0, 5)]\n",
    "\n",
    "    if dice1_result > dice2_result:\n",
    "            num_dice1_wins += 1\n",
    "    elif dice2_result > dice1_result:\n",
    "            num_dice2_wins += 1\n",
    "\n",
    "if num_dice1_wins > num_dice2_wins:\n",
    "        print(\"The dice {} is better than {}:\\nout of {} rounds it won {} times more\".format(dice1, dice2, num_rounds, num_dice1_wins-num_dice2_wins))\n",
    "elif num_dice2_wins > num_dice1_wins:\n",
    "        print(\"The dice {} is better than {}:\\nout of {} rounds it won {} times more\".format(dice2, dice1, num_rounds, num_dice2_wins-num_dice1_wins))\n",
    "else:\n",
    "        print(\"A tie\")"
   ]
  },
  {
   "cell_type": "code",
   "execution_count": 4,
   "metadata": {},
   "outputs": [
    {
     "name": "stdout",
     "output_type": "stream",
     "text": [
      "The dice [2, 2, 2, 2, 3, 3] is better than [1, 1, 1, 1, 6, 6]:\n",
      "out of 100000 rounds it won 33112 times more\n"
     ]
    }
   ],
   "source": [
    "from random import randint, seed\n",
    "from datetime import datetime\n",
    "\n",
    "seed(datetime.now())\n",
    "\n",
    "dice1=[2, 2, 2, 2, 3, 3]\n",
    "dice2=[1, 1, 1, 1, 6, 6]\n",
    "\n",
    "num_rounds = 10**5\n",
    "\n",
    "assert len(dice1) == 6 and len(dice2) == 6\n",
    "\n",
    "num_dice1_wins = 0\n",
    "num_dice2_wins = 0\n",
    "\n",
    "for _ in range(num_rounds):\n",
    "    dice1_result = dice1[randint(0, 5)]\n",
    "    dice2_result = dice2[randint(0, 5)]\n",
    "\n",
    "    if dice1_result > dice2_result:\n",
    "            num_dice1_wins += 1\n",
    "    elif dice2_result > dice1_result:\n",
    "            num_dice2_wins += 1\n",
    "\n",
    "if num_dice1_wins > num_dice2_wins:\n",
    "        print(\"The dice {} is better than {}:\\nout of {} rounds it won {} times more\".format(dice1, dice2, num_rounds, num_dice1_wins-num_dice2_wins))\n",
    "elif num_dice2_wins > num_dice1_wins:\n",
    "        print(\"The dice {} is better than {}:\\nout of {} rounds it won {} times more\".format(dice2, dice1, num_rounds, num_dice2_wins-num_dice1_wins))\n",
    "else:\n",
    "        print(\"A tie\")\n"
   ]
  },
  {
   "cell_type": "markdown",
   "metadata": {},
   "source": [
    "# winning in a dice game"
   ]
  },
  {
   "cell_type": "markdown",
   "metadata": {},
   "source": [
    "## Compare Two Dices\n",
    "\n",
    "Implement a function that takes two dices as input and computes two values: the first value is the number of times the first dice wins (out of all possible 36 choices), the second value is the number of times the second dice wins. We say that a dice wins if the number on it is greater than the number on the other dice.\n",
    "\n",
    "To debug your implementation, use the following test cases:\n",
    "```python\n",
    "Sample 1\n",
    "\n",
    "Input: dice1 = [1, 2, 3, 4, 5, 6], dice2 = [1, 2, 3, 4, 5, 6]\n",
    "\n",
    "Output: (15, 15)\n",
    "\n",
    "Sample 2\n",
    "\n",
    "Input: dice1 = [1, 1, 6, 6, 8, 8], dice2 = [2, 2, 4, 4, 9, 9]\n",
    "\n",
    "Output: (16, 20)\n",
    "```"
   ]
  },
  {
   "cell_type": "code",
   "execution_count": 22,
   "metadata": {},
   "outputs": [
    {
     "data": {
      "text/plain": [
       "(15, 15)"
      ]
     },
     "execution_count": 22,
     "metadata": {},
     "output_type": "execute_result"
    }
   ],
   "source": [
    "def count_wins(dice1, dice2):\n",
    "    assert len(dice1) == 6 and len(dice2) == 6\n",
    "    dice1_wins, dice2_wins = 0, 0\n",
    "\n",
    "    from itertools import product\n",
    "    for p in product(dice1, dice2):\n",
    "        if p[0] > p[1]:\n",
    "            dice1_wins += 1\n",
    "        elif p[0] < p[1]:\n",
    "            dice2_wins += 1\n",
    "\n",
    "    return (dice1_wins, dice2_wins)\n",
    "dice1 = [1, 2, 3, 4, 5, 6] #[1, 1, 6, 6, 8, 8]\n",
    "dice2 = [1, 2, 3, 4, 5, 6] #[2, 2, 4, 4, 9, 9]\n",
    "count_wins(dice1, dice2)"
   ]
  },
  {
   "cell_type": "markdown",
   "metadata": {},
   "source": [
    "## Is there the Best Dice?\n",
    "Now, your goal is to check whether there is a best.\n",
    "\n",
    "Implement a function that takes a list of dices and checks whether there is dice (in this list) that is better than all other dices. We say that a dice is better than another one, if it wins more frequently (that is, out of all 36 possibilities, it wins in a cases, while the second one wins in b cases, and a>b). If there is such a dice, return its (0-based) index. Otherwise, return -1.\n",
    "\n",
    "Use the following datasets for debugging:\n",
    "```python\n",
    "Sample 1\n",
    "\n",
    "Input: [[1, 1, 6, 6, 8, 8], [2, 2, 4, 4, 9, 9], [3, 3, 5, 5, 7, 7]]\n",
    "\n",
    "Output: -1\n",
    "\n",
    "Sample 2\n",
    "\n",
    "Input: [[1, 1, 2, 4, 5, 7], [1, 2, 2, 3, 4, 7], [1, 2, 3, 4, 5, 6]]\n",
    "\n",
    "Output: 2\n",
    "\n",
    "Sample 3\n",
    "\n",
    "Input: [[3, 3, 3, 3, 3, 3], [6, 6, 2, 2, 2, 2], [4, 4, 4, 4, 0, 0], [5, 5, 5, 1, 1, 1]]\n",
    "\n",
    "Output: -1\n",
    "```"
   ]
  },
  {
   "cell_type": "code",
   "execution_count": 42,
   "metadata": {},
   "outputs": [
    {
     "name": "stdout",
     "output_type": "stream",
     "text": [
      "(-1, {0: 1, 2: 0, 1: 2})\n",
      "(2, {0: 2, 1: 2})\n",
      "(-1, {1: 0, 0: 3, 3: 1, 2: 3})\n"
     ]
    }
   ],
   "source": [
    "def find_the_best_dice(dices):\n",
    "    assert all(len(dice) == 6 for dice in dices)\n",
    "    dice_num = len(dices)\n",
    "    win_num = []\n",
    "    from itertools import combinations\n",
    "    import numpy as np\n",
    "    import collections\n",
    "    select_strategy = {}\n",
    "    \n",
    "    for i in combinations(range(dice_num), 2):        \n",
    "        result = count_wins(dices[i[0]], dices[i[1]])\n",
    "        # tie\n",
    "        if result[0] == result[1]:\n",
    "            win_num.append(-1)\n",
    "            select_strategy[i[0]] = i[1]\n",
    "            select_strategy[i[1]] = i[0]\n",
    "        # if there is a winner\n",
    "        else:\n",
    "            select_strategy[i[np.argmin(result)]] = i[np.argmax(result)]\n",
    "            \n",
    "            which_dice = np.argmax(result)\n",
    "            win_num.append(i[which_dice])\n",
    "    \n",
    "    winner = collections.Counter(win_num).most_common(1)\n",
    "    \n",
    "    best_dice_index = winner[0][0] if winner[0][1] == (dice_num - 1) else -1\n",
    "    \n",
    "    \n",
    "    return best_dice_index, select_strategy\n",
    "\n",
    "print (find_the_best_dice([[1, 1, 6, 6, 8, 8], [2, 2, 4, 4, 9, 9], [3, 3, 5, 5, 7, 7]]))\n",
    "print (find_the_best_dice([[1, 1, 2, 4, 5, 7], [1, 2, 2, 3, 4, 7], [1, 2, 3, 4, 5, 6]]))\n",
    "print (find_the_best_dice([[3, 3, 3, 3, 3, 3], [6, 6, 2, 2, 2, 2], [4, 4, 4, 4, 0, 0], [5, 5, 5, 1, 1, 1]]))"
   ]
  },
  {
   "cell_type": "markdown",
   "metadata": {},
   "source": [
    "## Implement a Strategy\n",
    "Implement a function that takes a list of dices (possibly more than three) and returns a strategy. The strategy is a dictionary:\n",
    "\n",
    "If, after analyzing the given list of dices, you decide to choose a dice first, set strategy[\"choose_first\"] to True and set strategy[\"first_dice\"] to be the (0-based) index of the dice you would like to choose\n",
    "\n",
    "If you would like to be the second one to choose a dice, set strategy[\"choose_first\"] to False. Then, specify, for each dice that your opponent may take, the dice that you would take in return. Namely, for each i from 0 to len(dices)-1, set strategy[i] to an index j of the dice that you would take if the opponent takes the i-th dice first.\n",
    "\n",
    "Use the following datasets for debugging:\n",
    "```python\n",
    "Sample 1\n",
    "\n",
    "Input: [[1, 1, 4, 6, 7, 8], [2, 2, 2, 6, 7, 7], [3, 3, 3, 5, 5, 8]]\n",
    "\n",
    "Output: {'choose_first': False, 0: 1, 1: 2, 2: 0}\n",
    "\n",
    "Sample 2\n",
    "\n",
    "Input: [[4, 4, 4, 4, 0, 0], [7, 7, 3, 3, 3, 3], [6, 6, 2, 2, 2, 2], [5, 5, 5, 1, 1, 1]]\n",
    "\n",
    "Output: {'choose_first': True, 'first_dice': 1}\n",
    "```\n",
    "Note that your answers do not have to coincide with the answers above. First, the order of elements does not matter in the dictionary. Second, the dictionary might contain extra information that is not required in the statement of the problem. For example, {0: 3, 'first_dice': 1, 'choose_first': True} is also a correct output in Sample 2."
   ]
  },
  {
   "cell_type": "code",
   "execution_count": 48,
   "metadata": {},
   "outputs": [
    {
     "name": "stdout",
     "output_type": "stream",
     "text": [
      "{0: 1, 2: 0, 1: 2, 'choose_first': False}\n",
      "{0: 3, 2: 1, 3: 2, 'choose_first': True, 'first_dice': 1}\n"
     ]
    }
   ],
   "source": [
    "def compute_strategy(dices):\n",
    "    assert all(len(dice) == 6 for dice in dices)\n",
    "\n",
    "    strategy = dict()\n",
    "    \n",
    "    dice_num = len(dices)\n",
    "    win_num = []\n",
    "    from itertools import combinations\n",
    "    import collections\n",
    "    \n",
    "    for i in combinations(range(dice_num), 2):        \n",
    "        result = count_wins(dices[i[0]], dices[i[1]])\n",
    "        # tie\n",
    "        if result[0] == result[1]:\n",
    "            win_num.append(-1)\n",
    "            strategy[i[0]] = i[1]\n",
    "            strategy[i[1]] = i[0]\n",
    "        # if there is a winner\n",
    "        else:\n",
    "            strategy[i[result.index(min(result))]] = i[result.index(max(result))]\n",
    "            \n",
    "            which_dice = result.index(max(result))\n",
    "            win_num.append(i[which_dice])\n",
    "    \n",
    "    winner = collections.Counter(win_num).most_common(1)    \n",
    "    hasBest = winner[0][0] if winner[0][1] == (dice_num - 1) else -1\n",
    "    \n",
    "    \n",
    "    if hasBest == -1:\n",
    "        strategy[\"choose_first\"] = False\n",
    "  \n",
    "    else:\n",
    "        strategy[\"choose_first\"] = True\n",
    "        strategy[\"first_dice\"] = hasBest\n",
    "        \n",
    "    return strategy\n",
    "print (compute_strategy([[1, 1, 4, 6, 7, 8], [2, 2, 2, 6, 7, 7], [3, 3, 3, 5, 5, 8]]))\n",
    "print (compute_strategy([[4, 4, 4, 4, 0, 0], [7, 7, 3, 3, 3, 3], [6, 6, 2, 2, 2, 2], [5, 5, 5, 1, 1, 1]]))"
   ]
  },
  {
   "cell_type": "code",
   "execution_count": null,
   "metadata": {},
   "outputs": [],
   "source": []
  }
 ],
 "metadata": {
  "kernelspec": {
   "display_name": "Python 3",
   "language": "python",
   "name": "python3"
  },
  "language_info": {
   "codemirror_mode": {
    "name": "ipython",
    "version": 3
   },
   "file_extension": ".py",
   "mimetype": "text/x-python",
   "name": "python",
   "nbconvert_exporter": "python",
   "pygments_lexer": "ipython3",
   "version": "3.6.3"
  },
  "nav_menu": {},
  "toc": {
   "navigate_menu": true,
   "number_sections": true,
   "sideBar": true,
   "threshold": 6,
   "toc_cell": false,
   "toc_section_display": "block",
   "toc_window_display": false
  }
 },
 "nbformat": 4,
 "nbformat_minor": 2
}
