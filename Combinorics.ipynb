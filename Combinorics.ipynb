{
 "cells": [
  {
   "cell_type": "code",
   "execution_count": 9,
   "metadata": {},
   "outputs": [
    {
     "name": "stdout",
     "output_type": "stream",
     "text": [
      "TTTTT\n",
      "TTTTL\n",
      "TTTTE\n",
      "TTTLL\n",
      "TTTLE\n",
      "TTTEE\n",
      "TTLLL\n",
      "TTLLE\n",
      "TTLEE\n",
      "TTEEE\n",
      "TLLLL\n",
      "TLLLE\n",
      "TLLEE\n",
      "TLEEE\n",
      "TEEEE\n",
      "LLLLL\n",
      "LLLLE\n",
      "LLLEE\n",
      "LLEEE\n",
      "LEEEE\n",
      "EEEEE\n"
     ]
    }
   ],
   "source": [
    "from itertools import combinations_with_replacement\n",
    "for c in combinations_with_replacement(\"TLE\", 5):\n",
    "    print(\"\".join(c))"
   ]
  },
  {
   "cell_type": "code",
   "execution_count": 6,
   "metadata": {},
   "outputs": [
    {
     "name": "stdout",
     "output_type": "stream",
     "text": [
      "AB\n",
      "AC\n",
      "AD\n",
      "BC\n",
      "BD\n",
      "CD\n"
     ]
    }
   ],
   "source": [
    "from itertools import combinations\n",
    "for i in combinations('ABCD', 2):\n",
    "    print (\"\".join(i))"
   ]
  },
  {
   "cell_type": "code",
   "execution_count": 1,
   "metadata": {},
   "outputs": [
    {
     "name": "stdout",
     "output_type": "stream",
     "text": [
      "ax\n",
      "ay\n",
      "bx\n",
      "by\n",
      "cx\n",
      "cy\n"
     ]
    }
   ],
   "source": [
    "from itertools import product\n",
    "for p in product(['a', 'b', 'c'], ['x', 'y']):\n",
    "    print(\"\".join(p))"
   ]
  },
  {
   "cell_type": "code",
   "execution_count": 2,
   "metadata": {},
   "outputs": [
    {
     "name": "stdout",
     "output_type": "stream",
     "text": [
      "aaa\n",
      "aab\n",
      "aba\n",
      "abb\n",
      "baa\n",
      "bab\n",
      "bba\n",
      "bbb\n"
     ]
    }
   ],
   "source": [
    "from itertools import product\n",
    "for p in product(\"ab\", repeat=3):\n",
    "    print(\"\".join(p))"
   ]
  },
  {
   "cell_type": "code",
   "execution_count": 19,
   "metadata": {},
   "outputs": [
    {
     "data": {
      "text/plain": [
       "120"
      ]
     },
     "execution_count": 19,
     "metadata": {},
     "output_type": "execute_result"
    }
   ],
   "source": [
    "from itertools import permutations\n",
    "i = 0\n",
    "for p in permutations(\"abcdef\", 6):\n",
    "    queue = \"\".join(p)\n",
    "    a = queue.index(\"a\")\n",
    "    b = queue.index(\"b\")\n",
    "    c = queue.index(\"c\")\n",
    "    \n",
    "    if a<b and b<c:\n",
    "        i+=1\n",
    "        \n",
    "#         print(queue)\n",
    "i"
   ]
  },
  {
   "cell_type": "code",
   "execution_count": null,
   "metadata": {},
   "outputs": [],
   "source": []
  }
 ],
 "metadata": {
  "kernelspec": {
   "display_name": "Python 3",
   "language": "python",
   "name": "python3"
  },
  "language_info": {
   "codemirror_mode": {
    "name": "ipython",
    "version": 3
   },
   "file_extension": ".py",
   "mimetype": "text/x-python",
   "name": "python",
   "nbconvert_exporter": "python",
   "pygments_lexer": "ipython3",
   "version": "3.6.3"
  },
  "nav_menu": {},
  "toc": {
   "navigate_menu": true,
   "number_sections": true,
   "sideBar": true,
   "threshold": 6,
   "toc_cell": false,
   "toc_section_display": "block",
   "toc_window_display": false
  }
 },
 "nbformat": 4,
 "nbformat_minor": 2
}
