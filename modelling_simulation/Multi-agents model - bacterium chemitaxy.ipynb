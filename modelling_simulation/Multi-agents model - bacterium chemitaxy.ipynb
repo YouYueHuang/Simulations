{
 "cells": [
  {
   "cell_type": "code",
   "execution_count": 1,
   "metadata": {},
   "outputs": [],
   "source": [
    "from __future__ import print_function, division #compatibility py2 - py3\n",
    "import random, math, numpy\n",
    "import matplotlib.pyplot as plt"
   ]
  },
  {
   "cell_type": "code",
   "execution_count": 15,
   "metadata": {},
   "outputs": [
    {
     "data": {
      "image/png": "[encoded data removed]",
      "text/plain": [
       "<matplotlib.figure.Figure at 0xa3aa857198>"
      ]
     },
     "metadata": {},
     "output_type": "display_data"
    }
   ],
   "source": [
    "V = 2e-6\n",
    "DT = 0.2\n",
    "L = 100e-6\n",
    "P1 = 0.9\n",
    "P2 = 0.5\n",
    "N = 10\n",
    "\n",
    "def get_density(x,y): #version A\n",
    "    return 1./(1.+math.hypot(x-L/2.,y-L/2.))\n",
    "\n",
    "##def get_density(x,y): #version B\n",
    "##    return float(math.hypot(x-L/2.,y-L/2.) < 15e-6)\n",
    "\n",
    "\n",
    "def draw(b_list, n, t):\n",
    "    m = numpy.zeros((n,n))\n",
    "    for x in range(n):\n",
    "        for y in range(n):\n",
    "            m[x,y] = get_density(x*L/n,y*L/n)\n",
    "    for bacteria in b_list:\n",
    "        x,y = int(bacteria.x*n/L), int(bacteria.y*n/L)\n",
    "        m[x,y] = 1.\n",
    "    plt.imshow(m) #add interpolation='None' for non-smoothed image\n",
    "    plt.savefig(\"bacteria\"+str(t)+\".png\")\n",
    "##    plt.show() #directly show the image\n",
    "\n",
    "class Bacteria(object):\n",
    "\n",
    "    def __init__(self, x, y):\n",
    "        self.x = x\n",
    "        self.y = y\n",
    "        self.vx = None\n",
    "        self.vy = None\n",
    "        self.randomize_velocity()\n",
    "        self.old_density = get_density(self.x, self.y)\n",
    "\n",
    "    def randomize_velocity(self):\n",
    "        alpha = random.random()*math.pi*2\n",
    "        self.vx = math.cos(alpha) * V\n",
    "        self.vy = math.sin(alpha) * V\n",
    "        assert (math.hypot(self.vx, self.vy) - V) < 0.0000001\n",
    "\n",
    "    def update(self):\n",
    "        current_density = get_density(self.x, self.y)\n",
    "        go_forward = False\n",
    "        if current_density > self.old_density:\n",
    "            ######  Question 1 #########\n",
    "            if random.random() < P1:\n",
    "                go_forward = True\n",
    "        else:\n",
    "            ######  Question 2 #########\n",
    "            if random.random() < P2:\n",
    "                go_forward = True\n",
    "        if not go_forward:\n",
    "            ######  Question 3 #########\n",
    "            self.randomize_velocity()\n",
    "        self.x += self.vx * DT\n",
    "        self.y += self.vy * DT\n",
    "        #domain periodicity:\n",
    "        self.x %= L\n",
    "        self.y %= L\n",
    "        self.old_density = current_density\n",
    "\n",
    "b_list = [Bacteria(random.random()*L, random.random()*L) for i in range(N)]\n",
    "\n",
    "for t in range(200):\n",
    "    if t%40 == 0:\n",
    "        draw(b_list, 100, t)\n",
    "    for bacteria in b_list:\n",
    "        bacteria.update()"
   ]
  },
  {
   "cell_type": "code",
   "execution_count": null,
   "metadata": {},
   "outputs": [],
   "source": []
  }
 ],
 "metadata": {
  "kernelspec": {
   "display_name": "Python 3",
   "language": "python",
   "name": "python3"
  },
  "language_info": {
   "codemirror_mode": {
    "name": "ipython",
    "version": 3
   },
   "file_extension": ".py",
   "mimetype": "text/x-python",
   "name": "python",
   "nbconvert_exporter": "python",
   "pygments_lexer": "ipython3",
   "version": "3.6.3"
  },
  "nav_menu": {},
  "toc": {
   "navigate_menu": true,
   "number_sections": true,
   "sideBar": true,
   "threshold": 6,
   "toc_cell": false,
   "toc_section_display": "block",
   "toc_window_display": false
  }
 },
 "nbformat": 4,
 "nbformat_minor": 2
}
